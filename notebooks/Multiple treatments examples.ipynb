{
 "cells": [
  {
   "cell_type": "markdown",
   "id": "afbd11d5-c7d7-4467-9b80-fa73b58bae00",
   "metadata": {},
   "source": [
    "# Multiple treatments examples\n",
    "- In this notebook, we want to demonstrate common use cases where we have multiple treatments (ab testing is not covered, as you can just use another notebook for it)\n",
    "- Simple CausalTune training with multiple treatments\n",
    "- Applying custom propensities and train CausalTune (for example, in Uplift models)\n",
    "- ERUPT for multiple treatments"
   ]
  },
  {
   "cell_type": "markdown",
   "id": "11352cfb-89b2-48be-adb5-e68cd95d2ce8",
   "metadata": {},
   "source": [
    "### Setting up the data and causal model: CausalityDataset\n",
    "- This notebook demonstrates how to train CausalTune with multiple custom propensities.\n",
    "- The easiest example here is uplift modeling. Suppose we trained a model, sent messages, launched an experiment.\n",
    "- And now we want to train more complex model using previous round model as propensities."
   ]
  },
  {
   "cell_type": "code",
   "execution_count": 35,
   "id": "fbcf1af0-3ad3-4666-b465-633f950409be",
   "metadata": {},
   "outputs": [],
   "source": [
    "%load_ext autoreload\n",
    "%autoreload 2\n",
    "import os, sys\n",
    "import warnings\n",
    "warnings.filterwarnings('ignore') # suppress sklearn deprecation warnings for now..\n",
    "\n",
    "import pandas as pd\n",
    "import numpy as np\n",
    "from sklearn.model_selection import train_test_split\n",
    "\n",
    "from typing import List, Union\n",
    "import random\n",
    "\n",
    "# the below checks for whether we run dowhy, causaltune, and FLAML from source\n",
    "root_path = root_path = os.path.realpath('../..')\n",
    "try:\n",
    "    import causaltune\n",
    "except ModuleNotFoundError:\n",
    "    sys.path.append(os.path.join(root_path, \"causaltune\"))\n",
    "\n",
    "try:\n",
    "    import dowhy\n",
    "except ModuleNotFoundError:\n",
    "    sys.path.append(os.path.join(root_path, \"dowhy\"))\n",
    "\n",
    "try:\n",
    "    import flaml\n",
    "except ModuleNotFoundError:\n",
    "    sys.path.append(os.path.join(root_path, \"FLAML\"))\n",
    "    \n",
    "    \n",
    "    \n",
    "from causaltune import CausalTune\n",
    "from causaltune.datasets import synth_ihdp\n",
    "from causaltune.data_utils import CausalityDataset\n",
    "from causaltune.erupt import DummyPropensity, ERUPT\n",
    "from causaltune.models.passthrough import passthrough_model"
   ]
  },
  {
   "cell_type": "markdown",
   "id": "8c238be1-3759-40ba-90bd-ebe30a9c9e5e",
   "metadata": {},
   "source": [
    "### Data and generating treatments\n",
    "- We first illustrate the model setup with a subset of data from the Infant Health and Development Program (IHDP).\n",
    "- Then we synthetically create multiple treatments"
   ]
  },
  {
   "cell_type": "code",
   "execution_count": 2,
   "id": "36870c05-351b-4550-9af9-1aef6b68664d",
   "metadata": {},
   "outputs": [],
   "source": [
    "data = synth_ihdp(return_df=True).iloc[:,:10]"
   ]
  },
  {
   "cell_type": "code",
   "execution_count": 3,
   "id": "e2bf1659-9e49-4e5a-b3c2-767b04e4af57",
   "metadata": {},
   "outputs": [
    {
     "data": {
      "text/html": [
       "<div>\n",
       "<style scoped>\n",
       "    .dataframe tbody tr th:only-of-type {\n",
       "        vertical-align: middle;\n",
       "    }\n",
       "\n",
       "    .dataframe tbody tr th {\n",
       "        vertical-align: top;\n",
       "    }\n",
       "\n",
       "    .dataframe thead th {\n",
       "        text-align: right;\n",
       "    }\n",
       "</style>\n",
       "<table border=\"1\" class=\"dataframe\">\n",
       "  <thead>\n",
       "    <tr style=\"text-align: right;\">\n",
       "      <th></th>\n",
       "      <th>treatment</th>\n",
       "      <th>y_factual</th>\n",
       "      <th>x1</th>\n",
       "      <th>x2</th>\n",
       "      <th>x3</th>\n",
       "      <th>x4</th>\n",
       "      <th>x5</th>\n",
       "      <th>x6</th>\n",
       "      <th>x7</th>\n",
       "      <th>x8</th>\n",
       "    </tr>\n",
       "  </thead>\n",
       "  <tbody>\n",
       "    <tr>\n",
       "      <th>0</th>\n",
       "      <td>1</td>\n",
       "      <td>5.599916</td>\n",
       "      <td>-0.528603</td>\n",
       "      <td>-0.343455</td>\n",
       "      <td>1.128554</td>\n",
       "      <td>0.161703</td>\n",
       "      <td>-0.316603</td>\n",
       "      <td>1.295216</td>\n",
       "      <td>1</td>\n",
       "      <td>0</td>\n",
       "    </tr>\n",
       "    <tr>\n",
       "      <th>1</th>\n",
       "      <td>0</td>\n",
       "      <td>6.875856</td>\n",
       "      <td>-1.736945</td>\n",
       "      <td>-1.802002</td>\n",
       "      <td>0.383828</td>\n",
       "      <td>2.244320</td>\n",
       "      <td>-0.629189</td>\n",
       "      <td>1.295216</td>\n",
       "      <td>0</td>\n",
       "      <td>0</td>\n",
       "    </tr>\n",
       "    <tr>\n",
       "      <th>2</th>\n",
       "      <td>0</td>\n",
       "      <td>2.996273</td>\n",
       "      <td>-0.807451</td>\n",
       "      <td>-0.202946</td>\n",
       "      <td>-0.360898</td>\n",
       "      <td>-0.879606</td>\n",
       "      <td>0.808706</td>\n",
       "      <td>-0.526556</td>\n",
       "      <td>0</td>\n",
       "      <td>0</td>\n",
       "    </tr>\n",
       "    <tr>\n",
       "      <th>3</th>\n",
       "      <td>0</td>\n",
       "      <td>1.366206</td>\n",
       "      <td>0.390083</td>\n",
       "      <td>0.596582</td>\n",
       "      <td>-1.850350</td>\n",
       "      <td>-0.879606</td>\n",
       "      <td>-0.004017</td>\n",
       "      <td>-0.857787</td>\n",
       "      <td>0</td>\n",
       "      <td>0</td>\n",
       "    </tr>\n",
       "    <tr>\n",
       "      <th>4</th>\n",
       "      <td>0</td>\n",
       "      <td>1.963538</td>\n",
       "      <td>-1.045229</td>\n",
       "      <td>-0.602710</td>\n",
       "      <td>0.011465</td>\n",
       "      <td>0.161703</td>\n",
       "      <td>0.683672</td>\n",
       "      <td>-0.360940</td>\n",
       "      <td>1</td>\n",
       "      <td>0</td>\n",
       "    </tr>\n",
       "  </tbody>\n",
       "</table>\n",
       "</div>"
      ],
      "text/plain": [
       "   treatment  y_factual        x1        x2        x3        x4        x5  \\\n",
       "0          1   5.599916 -0.528603 -0.343455  1.128554  0.161703 -0.316603   \n",
       "1          0   6.875856 -1.736945 -1.802002  0.383828  2.244320 -0.629189   \n",
       "2          0   2.996273 -0.807451 -0.202946 -0.360898 -0.879606  0.808706   \n",
       "3          0   1.366206  0.390083  0.596582 -1.850350 -0.879606 -0.004017   \n",
       "4          0   1.963538 -1.045229 -0.602710  0.011465  0.161703  0.683672   \n",
       "\n",
       "         x6  x7  x8  \n",
       "0  1.295216   1   0  \n",
       "1  1.295216   0   0  \n",
       "2 -0.526556   0   0  \n",
       "3 -0.857787   0   0  \n",
       "4 -0.360940   1   0  "
      ]
     },
     "execution_count": 3,
     "metadata": {},
     "output_type": "execute_result"
    }
   ],
   "source": [
    "data.head()"
   ]
  },
  {
   "cell_type": "code",
   "execution_count": 4,
   "id": "9015a4f3-7df9-4b8d-ade5-6fa022dbb6ea",
   "metadata": {},
   "outputs": [
    {
     "data": {
      "image/png": "[encoded data removed]",
      "text/latex": [
       "$\\displaystyle 747$"
      ],
      "text/plain": [
       "747"
      ]
     },
     "execution_count": 4,
     "metadata": {},
     "output_type": "execute_result"
    }
   ],
   "source": [
    "len(data)"
   ]
  },
  {
   "cell_type": "markdown",
   "id": "1051b3de-cc27-41df-8fe1-56aac7627dd4",
   "metadata": {},
   "source": [
    "- Here we just randomly create multiple treatments"
   ]
  },
  {
   "cell_type": "code",
   "execution_count": 5,
   "id": "69cc5159-d305-44c1-9900-b6f57233e6ba",
   "metadata": {},
   "outputs": [],
   "source": [
    "np.random.seed(42)\n",
    "def generate_treatments(N: int, n_groups: int) -> List[List[Union[int, float]]]:\n",
    "    treatments = [random.randint(0, n_groups) for _ in range(N)]\n",
    "    values = [[random.random() for _ in range(N)] for _ in range(n_groups+1)]\n",
    "    row_sums = [sum(row) for row in values]\n",
    "    probabilities = [[prob / row_sum for prob in row] for row, row_sum in zip(values, row_sums)]\n",
    "    for i in range(N):\n",
    "        sum_probs = sum(row[i] for row in probabilities)\n",
    "        for row in probabilities:\n",
    "            row[i] /= sum_probs\n",
    "\n",
    "    return [treatments] + probabilities\n",
    "\n",
    "N = 747\n",
    "n_groups = 4\n",
    "\n",
    "treatments = generate_treatments(N, n_groups)"
   ]
  },
  {
   "cell_type": "code",
   "execution_count": 6,
   "id": "09159be8-9f68-45fc-9e2a-e843ce975f0a",
   "metadata": {},
   "outputs": [],
   "source": [
    "data['treatment'] = treatments[0]\n",
    "data['propensity_control'] = treatments[1]\n",
    "data['propensity_treatment1'] = treatments[2]\n",
    "data['propensity_treatment2'] = treatments[3]\n",
    "data['propensity_treatment3'] = treatments[4]\n",
    "data['propensity_treatment4'] = treatments[5]\n",
    "\n",
    "data['propensity_selected_group'] = data.apply(\n",
    "    lambda row: row['propensity_control'] if row['treatment'] == 0 else \n",
    "                                         (row['propensity_treatment1'] if row['treatment'] == 1 else \n",
    "                                         (row['propensity_treatment2'] if row['treatment'] == 2 else \n",
    "                                         (row['propensity_treatment3'] if row['treatment'] == 3 else\n",
    "                                         (row['propensity_treatment4'] if row['treatment'] == 4 else None)))),\n",
    "    axis=1\n",
    ")"
   ]
  },
  {
   "cell_type": "markdown",
   "id": "379a507a-f85c-435a-8abf-ee1b27adb66d",
   "metadata": {},
   "source": [
    "- Now we have `treatment` (0, 1, 2, 3, 4)\n",
    "- Outcome `y_factual`\n",
    "- Features `x1, x2, x3, x4, x5, x6, x7, x8`\n",
    "- Propensities `control, treatment1, treatment2, treatment3, treatment4`\n",
    "- selected treatment related propensity `propensity_selected_group`"
   ]
  },
  {
   "cell_type": "code",
   "execution_count": 7,
   "id": "c13377bd-0608-4ef7-b3a5-0a44e36f32f4",
   "metadata": {},
   "outputs": [
    {
     "data": {
      "text/html": [
       "<div>\n",
       "<style scoped>\n",
       "    .dataframe tbody tr th:only-of-type {\n",
       "        vertical-align: middle;\n",
       "    }\n",
       "\n",
       "    .dataframe tbody tr th {\n",
       "        vertical-align: top;\n",
       "    }\n",
       "\n",
       "    .dataframe thead th {\n",
       "        text-align: right;\n",
       "    }\n",
       "</style>\n",
       "<table border=\"1\" class=\"dataframe\">\n",
       "  <thead>\n",
       "    <tr style=\"text-align: right;\">\n",
       "      <th></th>\n",
       "      <th>treatment</th>\n",
       "      <th>y_factual</th>\n",
       "      <th>x1</th>\n",
       "      <th>x2</th>\n",
       "      <th>x3</th>\n",
       "      <th>x4</th>\n",
       "      <th>x5</th>\n",
       "      <th>x6</th>\n",
       "      <th>x7</th>\n",
       "      <th>x8</th>\n",
       "      <th>propensity_control</th>\n",
       "      <th>propensity_treatment1</th>\n",
       "      <th>propensity_treatment2</th>\n",
       "      <th>propensity_treatment3</th>\n",
       "      <th>propensity_treatment4</th>\n",
       "      <th>propensity_selected_group</th>\n",
       "    </tr>\n",
       "  </thead>\n",
       "  <tbody>\n",
       "    <tr>\n",
       "      <th>0</th>\n",
       "      <td>2</td>\n",
       "      <td>5.599916</td>\n",
       "      <td>-0.528603</td>\n",
       "      <td>-0.343455</td>\n",
       "      <td>1.128554</td>\n",
       "      <td>0.161703</td>\n",
       "      <td>-0.316603</td>\n",
       "      <td>1.295216</td>\n",
       "      <td>1</td>\n",
       "      <td>0</td>\n",
       "      <td>0.107949</td>\n",
       "      <td>0.341507</td>\n",
       "      <td>0.029807</td>\n",
       "      <td>0.257914</td>\n",
       "      <td>0.262823</td>\n",
       "      <td>0.029807</td>\n",
       "    </tr>\n",
       "    <tr>\n",
       "      <th>1</th>\n",
       "      <td>3</td>\n",
       "      <td>6.875856</td>\n",
       "      <td>-1.736945</td>\n",
       "      <td>-1.802002</td>\n",
       "      <td>0.383828</td>\n",
       "      <td>2.244320</td>\n",
       "      <td>-0.629189</td>\n",
       "      <td>1.295216</td>\n",
       "      <td>0</td>\n",
       "      <td>0</td>\n",
       "      <td>0.329860</td>\n",
       "      <td>0.003811</td>\n",
       "      <td>0.270932</td>\n",
       "      <td>0.263306</td>\n",
       "      <td>0.132091</td>\n",
       "      <td>0.263306</td>\n",
       "    </tr>\n",
       "    <tr>\n",
       "      <th>2</th>\n",
       "      <td>1</td>\n",
       "      <td>2.996273</td>\n",
       "      <td>-0.807451</td>\n",
       "      <td>-0.202946</td>\n",
       "      <td>-0.360898</td>\n",
       "      <td>-0.879606</td>\n",
       "      <td>0.808706</td>\n",
       "      <td>-0.526556</td>\n",
       "      <td>0</td>\n",
       "      <td>0</td>\n",
       "      <td>0.295283</td>\n",
       "      <td>0.082931</td>\n",
       "      <td>0.219673</td>\n",
       "      <td>0.200007</td>\n",
       "      <td>0.202105</td>\n",
       "      <td>0.082931</td>\n",
       "    </tr>\n",
       "    <tr>\n",
       "      <th>3</th>\n",
       "      <td>4</td>\n",
       "      <td>1.366206</td>\n",
       "      <td>0.390083</td>\n",
       "      <td>0.596582</td>\n",
       "      <td>-1.850350</td>\n",
       "      <td>-0.879606</td>\n",
       "      <td>-0.004017</td>\n",
       "      <td>-0.857787</td>\n",
       "      <td>0</td>\n",
       "      <td>0</td>\n",
       "      <td>0.343119</td>\n",
       "      <td>0.191204</td>\n",
       "      <td>0.041045</td>\n",
       "      <td>0.227161</td>\n",
       "      <td>0.197471</td>\n",
       "      <td>0.197471</td>\n",
       "    </tr>\n",
       "    <tr>\n",
       "      <th>4</th>\n",
       "      <td>4</td>\n",
       "      <td>1.963538</td>\n",
       "      <td>-1.045229</td>\n",
       "      <td>-0.602710</td>\n",
       "      <td>0.011465</td>\n",
       "      <td>0.161703</td>\n",
       "      <td>0.683672</td>\n",
       "      <td>-0.360940</td>\n",
       "      <td>1</td>\n",
       "      <td>0</td>\n",
       "      <td>0.269994</td>\n",
       "      <td>0.057299</td>\n",
       "      <td>0.402925</td>\n",
       "      <td>0.036241</td>\n",
       "      <td>0.233541</td>\n",
       "      <td>0.233541</td>\n",
       "    </tr>\n",
       "  </tbody>\n",
       "</table>\n",
       "</div>"
      ],
      "text/plain": [
       "   treatment  y_factual        x1        x2        x3        x4        x5  \\\n",
       "0          2   5.599916 -0.528603 -0.343455  1.128554  0.161703 -0.316603   \n",
       "1          3   6.875856 -1.736945 -1.802002  0.383828  2.244320 -0.629189   \n",
       "2          1   2.996273 -0.807451 -0.202946 -0.360898 -0.879606  0.808706   \n",
       "3          4   1.366206  0.390083  0.596582 -1.850350 -0.879606 -0.004017   \n",
       "4          4   1.963538 -1.045229 -0.602710  0.011465  0.161703  0.683672   \n",
       "\n",
       "         x6  x7  x8  propensity_control  propensity_treatment1  \\\n",
       "0  1.295216   1   0            0.107949               0.341507   \n",
       "1  1.295216   0   0            0.329860               0.003811   \n",
       "2 -0.526556   0   0            0.295283               0.082931   \n",
       "3 -0.857787   0   0            0.343119               0.191204   \n",
       "4 -0.360940   1   0            0.269994               0.057299   \n",
       "\n",
       "   propensity_treatment2  propensity_treatment3  propensity_treatment4  \\\n",
       "0               0.029807               0.257914               0.262823   \n",
       "1               0.270932               0.263306               0.132091   \n",
       "2               0.219673               0.200007               0.202105   \n",
       "3               0.041045               0.227161               0.197471   \n",
       "4               0.402925               0.036241               0.233541   \n",
       "\n",
       "   propensity_selected_group  \n",
       "0                   0.029807  \n",
       "1                   0.263306  \n",
       "2                   0.082931  \n",
       "3                   0.197471  \n",
       "4                   0.233541  "
      ]
     },
     "execution_count": 7,
     "metadata": {},
     "output_type": "execute_result"
    }
   ],
   "source": [
    "data.head()"
   ]
  },
  {
   "cell_type": "markdown",
   "id": "98330541-4245-4790-84d3-0deb00aeb1bc",
   "metadata": {},
   "source": [
    "Generally, at least four arguments have to be supplied to `CausalityDataset` if you want to train a model:\n",
    "- `data`: input dataframe\n",
    "- `treatment`: name of treatment column\n",
    "- `outcomes`: list of names of outcome columns; provide as list even if there's just one outcome of interest\n",
    "- `effect_modifiers`: list of names of feature columns;\n",
    "\n",
    "In addition, if the propensities to treat are known, then provide the corresponding column name(s) via `propensity_modifiers`."
   ]
  },
  {
   "cell_type": "code",
   "execution_count": 8,
   "id": "7b8011b6-1c23-43de-b76a-52baf74dc656",
   "metadata": {},
   "outputs": [],
   "source": [
    "features = [\n",
    "    'x1',\n",
    "    'x2',\n",
    "    'x3',\n",
    "    'x4',\n",
    "    'x5',\n",
    "    'x6',\n",
    "    'x7',\n",
    "    'x8'\n",
    "]\n",
    "\n",
    "propensities = [\n",
    "    'propensity_control',\n",
    "    'propensity_treatment1',\n",
    "    'propensity_treatment2',\n",
    "    'propensity_treatment3',\n",
    "    'propensity_treatment4'\n",
    "]"
   ]
  },
  {
   "cell_type": "code",
   "execution_count": 9,
   "id": "1a894d9f-1b20-4f83-8425-f38c1bebf146",
   "metadata": {},
   "outputs": [],
   "source": [
    "cd = CausalityDataset(\n",
    "    data=data,\n",
    "    treatment='treatment',\n",
    "    outcomes=['y_factual'],\n",
    "    effect_modifiers = features,\n",
    "    propensity_modifiers = propensities\n",
    ")"
   ]
  },
  {
   "cell_type": "markdown",
   "id": "8df6ecc4-7758-4f99-be0d-a21b118b56d1",
   "metadata": {},
   "source": [
    "- To transform categorical columns and do some manipulations"
   ]
  },
  {
   "cell_type": "code",
   "execution_count": 10,
   "id": "cbd3c8f9-38db-4458-9691-e6d80c448f08",
   "metadata": {},
   "outputs": [],
   "source": [
    "cd.preprocess_dataset()"
   ]
  },
  {
   "cell_type": "markdown",
   "id": "d0288aa2-e1b2-4bf8-877d-b45c52f3bc74",
   "metadata": {},
   "source": [
    "### Train CausalTune with simple energy distance (multiple treatments)\n",
    "- Here we fit a (selection of) model(s) to the data and score them with the energy distance metric"
   ]
  },
  {
   "cell_type": "code",
   "execution_count": 11,
   "id": "fd3239ff-6d8e-4433-b307-e58ff237d807",
   "metadata": {},
   "outputs": [],
   "source": [
    "# training configs\n",
    "\n",
    "# set evaluation metric\n",
    "metric = \"energy_distance\"\n",
    "\n",
    "# it's best to specify either time_budget or components_time_budget, \n",
    "# and let the other one be inferred; time in seconds\n",
    "components_time_budget = 10\n",
    "\n",
    "# specify training set size\n",
    "train_size = 0.7"
   ]
  },
  {
   "cell_type": "markdown",
   "id": "088b75a1-c390-495f-be80-b253bcbc2a38",
   "metadata": {},
   "source": [
    "Now if `outcome_model=\"auto\"` in the CausalTune constructor, we search over a simultaneous search space for the EconML estimators and for FLAML wrappers for common regressors. The old behavior is now achieved by `outcome_model=\"nested\"` (Refitting AutoML for each estimator).\n",
    "\n",
    "You can also preprocess the data in the CausalityDataset using one of the popular category encoders: OneHot, WoE, Label, Target."
   ]
  },
  {
   "cell_type": "code",
   "execution_count": 12,
   "id": "79762873-547f-4c0a-8637-c7ea11e86ca4",
   "metadata": {},
   "outputs": [],
   "source": [
    "ct = CausalTune(\n",
    "    estimator_list=[\n",
    "        \"DomainAdaptationLearner\",\n",
    "        \"CausalForestDML\",\n",
    "        \"ForestDRLearner\",\n",
    "    ],\n",
    "    metric=metric,\n",
    "    verbose=1,\n",
    "    components_time_budget=components_time_budget,\n",
    "    train_size=train_size,\n",
    "    outcome_model=\"auto\",\n",
    ")"
   ]
  },
  {
   "cell_type": "code",
   "execution_count": 36,
   "id": "6e54c819-d1c4-488e-89dd-37320362f561",
   "metadata": {},
   "outputs": [],
   "source": [
    "# run causaltune\n",
    "ct.fit(data=cd, outcome=cd.outcomes[0])\n",
    "\n",
    "print('---------------------')\n",
    "# return best estimator\n",
    "print(f\"Best estimator: {ct.best_estimator}\")\n",
    "# config of best estimator:\n",
    "print(f\"Best config: {ct.best_config}\")\n",
    "# best score:\n",
    "print(f\"Best score: {ct.best_score}\")"
   ]
  },
  {
   "cell_type": "code",
   "execution_count": 14,
   "id": "3c0969e0-60b2-48db-895a-e3045487c5d3",
   "metadata": {},
   "outputs": [],
   "source": [
    "preds = ct.effect(cd.data)"
   ]
  },
  {
   "cell_type": "code",
   "execution_count": 15,
   "id": "9e68cb46-0d2c-49e5-9c4c-622038afd8db",
   "metadata": {},
   "outputs": [
    {
     "data": {
      "text/plain": [
       "array([[-0.17528909, -0.10834053, -0.27350324, -0.27354165],\n",
       "       [ 0.19621234,  0.30247269, -0.1484149 , -0.25184741],\n",
       "       [ 0.11457749,  0.02436523, -0.04183348,  0.23708047],\n",
       "       ...,\n",
       "       [-0.96454594, -0.57960515,  0.08710834, -0.38235969],\n",
       "       [-0.69400728, -0.03214504, -0.0508105 ,  0.27500816],\n",
       "       [-0.02277706, -0.39042558,  0.05169252, -0.22645511]])"
      ]
     },
     "execution_count": 15,
     "metadata": {},
     "output_type": "execute_result"
    }
   ],
   "source": [
    "preds"
   ]
  },
  {
   "cell_type": "markdown",
   "id": "9b9218e5-33ac-47c0-a3af-f264620e78be",
   "metadata": {},
   "source": [
    "- Here we want to get results from the predictions\n",
    "- We do naive argmax, but it is also recommended to use Thompson Sampling"
   ]
  },
  {
   "cell_type": "code",
   "execution_count": 16,
   "id": "2f437600-0161-4439-a30c-695dca858e6e",
   "metadata": {},
   "outputs": [],
   "source": [
    "predicted_treatments = np.argmax(preds, axis=1) + 1"
   ]
  },
  {
   "cell_type": "markdown",
   "id": "31cf24b5-013b-43a9-9db9-85f214f0dad7",
   "metadata": {},
   "source": [
    "### Train CausalTune with custom multiple propensities\n",
    "In some settings such as uplift modelling, the experiment / study is based on heterogeneous treatment propensities known to the researcher / experimenter. An array of treatment propensities can be directly supplied to CausalTune in the data instantiation of the `CausalityDataset`. This can, e.g. be done by \n",
    "```\n",
    "cd = CausalityDataset(\n",
    "    ...\n",
    "    propensity_modifiers=[<individual_treatment_propensity_column_name>]\n",
    "    ...\n",
    ")\n",
    "```\n",
    "and then using the `passthrough_model` as follows"
   ]
  },
  {
   "cell_type": "code",
   "execution_count": 17,
   "id": "01347374-8524-4906-8a80-af02602fbfc1",
   "metadata": {},
   "outputs": [],
   "source": [
    "propensity_model=passthrough_model(\n",
    "    cd.propensity_modifiers, include_control=True\n",
    ")"
   ]
  },
  {
   "cell_type": "code",
   "execution_count": 18,
   "id": "f0255a70-dd9d-45e6-ae6a-4b5bc6001714",
   "metadata": {},
   "outputs": [],
   "source": [
    "# set evaluation metric, if we want to use custom propensities, we should use \"psw_energy_distance\" metric\n",
    "metric = \"psw_energy_distance\""
   ]
  },
  {
   "cell_type": "markdown",
   "id": "c1efc7ac-9530-4dfe-9e7b-0797ff9529a4",
   "metadata": {},
   "source": [
    "Now if `outcome_model=\"auto\"` in the CausalTune constructor, we search over a simultaneous search space for the EconML estimators and for FLAML wrappers for common regressors. The old behavior is now achieved by `outcome_model=\"nested\"` (Refitting AutoML for each estimator).\n",
    "\n",
    "You can also preprocess the data in the CausalityDataset using one of the popular category encoders: OneHot, WoE, Label, Target."
   ]
  },
  {
   "cell_type": "code",
   "execution_count": 19,
   "id": "ef2b635b-c92f-45c2-9038-c69d4ddd5c62",
   "metadata": {},
   "outputs": [],
   "source": [
    "ct2 = CausalTune(\n",
    "    estimator_list=[\n",
    "        \"DomainAdaptationLearner\",\n",
    "        \"CausalForestDML\",\n",
    "        \"ForestDRLearner\",\n",
    "    ],\n",
    "    metric=metric,\n",
    "    verbose=1,\n",
    "    components_time_budget=components_time_budget,\n",
    "    train_size=train_size,\n",
    "    propensity_model=propensity_model,\n",
    "    outcome_model=\"auto\"\n",
    ")"
   ]
  },
  {
   "cell_type": "code",
   "execution_count": 37,
   "id": "ed6ad9d8-efcd-4123-935e-ebac56b39143",
   "metadata": {},
   "outputs": [],
   "source": [
    "# run causaltune\n",
    "ct2.fit(data=cd, outcome=cd.outcomes[0])\n",
    "\n",
    "print('---------------------')\n",
    "# return best estimator\n",
    "print(f\"Best estimator: {ct2.best_estimator}\")\n",
    "# config of best estimator:\n",
    "print(f\"Best config: {ct2.best_config}\")\n",
    "# best score:\n",
    "print(f\"Best score: {ct2.best_score}\")"
   ]
  },
  {
   "cell_type": "code",
   "execution_count": 21,
   "id": "4116f254-1428-4283-9a44-095ac5de95d5",
   "metadata": {},
   "outputs": [],
   "source": [
    "preds2 = ct2.effect(cd.data)"
   ]
  },
  {
   "cell_type": "code",
   "execution_count": 22,
   "id": "1768aa4c-43c6-47d6-8cc7-2626469ce3f7",
   "metadata": {},
   "outputs": [
    {
     "data": {
      "text/plain": [
       "array([[-0.82748584, -0.38301612, -0.28167136,  0.59362769],\n",
       "       [-0.47553063, -1.32764429, -0.78241589, -0.11771117],\n",
       "       [-0.56505201, -2.38952635, -1.25667425, -1.26012244],\n",
       "       ...,\n",
       "       [ 0.35639461,  0.81618186, -0.33151397, -0.45705827],\n",
       "       [ 0.23314607,  0.54855842,  0.42367241,  2.13179076],\n",
       "       [ 0.52856153,  0.5723138 ,  0.21125856,  0.57083639]])"
      ]
     },
     "execution_count": 22,
     "metadata": {},
     "output_type": "execute_result"
    }
   ],
   "source": [
    "preds2"
   ]
  },
  {
   "cell_type": "markdown",
   "id": "196bd451-6663-4d59-84f7-d65eb2547015",
   "metadata": {},
   "source": [
    "- Here we want to get results from the predictions\n",
    "- We do naive argmax, but it is also recommended to use Thompson Sampling"
   ]
  },
  {
   "cell_type": "code",
   "execution_count": 23,
   "id": "e3265a9e-b58e-477e-a1a9-c4af38b8b422",
   "metadata": {},
   "outputs": [],
   "source": [
    "predicted_treatments2 = np.argmax(preds2, axis=1) + 1"
   ]
  },
  {
   "cell_type": "markdown",
   "id": "f1a6c03f-ce5a-4b7e-91d0-146bd0feba77",
   "metadata": {},
   "source": [
    "### Run ERUPT with multiple propensities\n",
    "Below we demonstrate how to use Estimated Response Under Proposed Treatment (ERUPT) to estimate the average treatment effect had the treatment been assigned randomly. Recall that the dataset used in this example is constructed in a way that the treatment propensity is a function of a unit's covariates."
   ]
  },
  {
   "cell_type": "code",
   "execution_count": 24,
   "id": "ff674637-1136-46b6-ae6d-a0cdd3218b56",
   "metadata": {},
   "outputs": [],
   "source": [
    "np.random.seed(42)\n",
    "test = synth_ihdp(return_df=True).iloc[:,:10]\n",
    "N = 747\n",
    "n_groups = 4\n",
    "\n",
    "treatments = generate_treatments(N, n_groups)\n",
    "\n",
    "test['treatment'] = treatments[0]\n",
    "test['propensity_control'] = treatments[1]\n",
    "test['propensity_treatment1'] = treatments[2]\n",
    "test['propensity_treatment2'] = treatments[3]\n",
    "test['propensity_treatment3'] = treatments[4]\n",
    "test['propensity_treatment4'] = treatments[5]\n",
    "\n",
    "test['propensity_selected_group'] = data.apply(\n",
    "    lambda row: row['propensity_control'] if row['treatment'] == 0 else \n",
    "                                         (row['propensity_treatment1'] if row['treatment'] == 1 else \n",
    "                                         (row['propensity_treatment2'] if row['treatment'] == 2 else \n",
    "                                         (row['propensity_treatment3'] if row['treatment'] == 3 else\n",
    "                                         (row['propensity_treatment4'] if row['treatment'] == 4 else None)))),\n",
    "    axis=1\n",
    ")\n",
    "\n",
    "def randomize(value):\n",
    "    return value + np.random.uniform(-1, 1)\n",
    "\n",
    "for col in features:\n",
    "    test[col] = test[col].apply(randomize)\n",
    "\n",
    "test['y_factual'] = test['y_factual'].apply(randomize)\n",
    "test['treatment'] = test['treatment'].sample(len(test))"
   ]
  },
  {
   "cell_type": "code",
   "execution_count": 25,
   "id": "74e51a09-3a76-47c8-a7f4-7665d48873fa",
   "metadata": {},
   "outputs": [],
   "source": [
    "test = test[test['treatment'] != 0].reset_index(drop=True)"
   ]
  },
  {
   "cell_type": "code",
   "execution_count": 26,
   "id": "345bfe6d-dbdd-4ac9-a8d1-d15860c691ac",
   "metadata": {},
   "outputs": [
    {
     "data": {
      "text/html": [
       "<div>\n",
       "<style scoped>\n",
       "    .dataframe tbody tr th:only-of-type {\n",
       "        vertical-align: middle;\n",
       "    }\n",
       "\n",
       "    .dataframe tbody tr th {\n",
       "        vertical-align: top;\n",
       "    }\n",
       "\n",
       "    .dataframe thead th {\n",
       "        text-align: right;\n",
       "    }\n",
       "</style>\n",
       "<table border=\"1\" class=\"dataframe\">\n",
       "  <thead>\n",
       "    <tr style=\"text-align: right;\">\n",
       "      <th></th>\n",
       "      <th>treatment</th>\n",
       "      <th>y_factual</th>\n",
       "      <th>x1</th>\n",
       "      <th>x2</th>\n",
       "      <th>x3</th>\n",
       "      <th>x4</th>\n",
       "      <th>x5</th>\n",
       "      <th>x6</th>\n",
       "      <th>x7</th>\n",
       "      <th>x8</th>\n",
       "      <th>propensity_control</th>\n",
       "      <th>propensity_treatment1</th>\n",
       "      <th>propensity_treatment2</th>\n",
       "      <th>propensity_treatment3</th>\n",
       "      <th>propensity_treatment4</th>\n",
       "      <th>propensity_selected_group</th>\n",
       "    </tr>\n",
       "  </thead>\n",
       "  <tbody>\n",
       "    <tr>\n",
       "      <th>0</th>\n",
       "      <td>4</td>\n",
       "      <td>6.175675</td>\n",
       "      <td>-0.835516</td>\n",
       "      <td>-0.989058</td>\n",
       "      <td>0.720254</td>\n",
       "      <td>2.409933</td>\n",
       "      <td>0.096092</td>\n",
       "      <td>1.619043</td>\n",
       "      <td>0.140574</td>\n",
       "      <td>0.329478</td>\n",
       "      <td>0.143508</td>\n",
       "      <td>0.009668</td>\n",
       "      <td>0.249150</td>\n",
       "      <td>0.340022</td>\n",
       "      <td>0.257652</td>\n",
       "      <td>0.263306</td>\n",
       "    </tr>\n",
       "    <tr>\n",
       "      <th>1</th>\n",
       "      <td>2</td>\n",
       "      <td>2.253838</td>\n",
       "      <td>-1.733191</td>\n",
       "      <td>0.276954</td>\n",
       "      <td>-0.228963</td>\n",
       "      <td>0.204594</td>\n",
       "      <td>0.789086</td>\n",
       "      <td>-0.205158</td>\n",
       "      <td>0.050398</td>\n",
       "      <td>-0.178537</td>\n",
       "      <td>0.219851</td>\n",
       "      <td>0.395494</td>\n",
       "      <td>0.271965</td>\n",
       "      <td>0.040387</td>\n",
       "      <td>0.072304</td>\n",
       "      <td>0.233541</td>\n",
       "    </tr>\n",
       "    <tr>\n",
       "      <th>2</th>\n",
       "      <td>1</td>\n",
       "      <td>3.796029</td>\n",
       "      <td>-0.220110</td>\n",
       "      <td>0.052470</td>\n",
       "      <td>-0.006594</td>\n",
       "      <td>-0.711016</td>\n",
       "      <td>-0.148393</td>\n",
       "      <td>2.766398</td>\n",
       "      <td>0.709664</td>\n",
       "      <td>0.009275</td>\n",
       "      <td>0.273572</td>\n",
       "      <td>0.169401</td>\n",
       "      <td>0.030970</td>\n",
       "      <td>0.247343</td>\n",
       "      <td>0.278714</td>\n",
       "      <td>0.151098</td>\n",
       "    </tr>\n",
       "    <tr>\n",
       "      <th>3</th>\n",
       "      <td>3</td>\n",
       "      <td>1.417470</td>\n",
       "      <td>0.951141</td>\n",
       "      <td>1.584397</td>\n",
       "      <td>-0.937251</td>\n",
       "      <td>0.432877</td>\n",
       "      <td>-1.439677</td>\n",
       "      <td>-0.090420</td>\n",
       "      <td>0.522325</td>\n",
       "      <td>0.322685</td>\n",
       "      <td>0.372968</td>\n",
       "      <td>0.098640</td>\n",
       "      <td>0.180842</td>\n",
       "      <td>0.307548</td>\n",
       "      <td>0.040002</td>\n",
       "      <td>0.059175</td>\n",
       "    </tr>\n",
       "    <tr>\n",
       "      <th>4</th>\n",
       "      <td>4</td>\n",
       "      <td>1.630352</td>\n",
       "      <td>0.019401</td>\n",
       "      <td>-0.362564</td>\n",
       "      <td>0.066324</td>\n",
       "      <td>-0.650583</td>\n",
       "      <td>0.240731</td>\n",
       "      <td>-1.512800</td>\n",
       "      <td>0.389906</td>\n",
       "      <td>-0.923198</td>\n",
       "      <td>0.021148</td>\n",
       "      <td>0.021058</td>\n",
       "      <td>0.361784</td>\n",
       "      <td>0.550461</td>\n",
       "      <td>0.045550</td>\n",
       "      <td>0.073713</td>\n",
       "    </tr>\n",
       "  </tbody>\n",
       "</table>\n",
       "</div>"
      ],
      "text/plain": [
       "   treatment  y_factual        x1        x2        x3        x4        x5  \\\n",
       "0          4   6.175675 -0.835516 -0.989058  0.720254  2.409933  0.096092   \n",
       "1          2   2.253838 -1.733191  0.276954 -0.228963  0.204594  0.789086   \n",
       "2          1   3.796029 -0.220110  0.052470 -0.006594 -0.711016 -0.148393   \n",
       "3          3   1.417470  0.951141  1.584397 -0.937251  0.432877 -1.439677   \n",
       "4          4   1.630352  0.019401 -0.362564  0.066324 -0.650583  0.240731   \n",
       "\n",
       "         x6        x7        x8  propensity_control  propensity_treatment1  \\\n",
       "0  1.619043  0.140574  0.329478            0.143508               0.009668   \n",
       "1 -0.205158  0.050398 -0.178537            0.219851               0.395494   \n",
       "2  2.766398  0.709664  0.009275            0.273572               0.169401   \n",
       "3 -0.090420  0.522325  0.322685            0.372968               0.098640   \n",
       "4 -1.512800  0.389906 -0.923198            0.021148               0.021058   \n",
       "\n",
       "   propensity_treatment2  propensity_treatment3  propensity_treatment4  \\\n",
       "0               0.249150               0.340022               0.257652   \n",
       "1               0.271965               0.040387               0.072304   \n",
       "2               0.030970               0.247343               0.278714   \n",
       "3               0.180842               0.307548               0.040002   \n",
       "4               0.361784               0.550461               0.045550   \n",
       "\n",
       "   propensity_selected_group  \n",
       "0                   0.263306  \n",
       "1                   0.233541  \n",
       "2                   0.151098  \n",
       "3                   0.059175  \n",
       "4                   0.073713  "
      ]
     },
     "execution_count": 26,
     "metadata": {},
     "output_type": "execute_result"
    }
   ],
   "source": [
    "test.head()"
   ]
  },
  {
   "cell_type": "code",
   "execution_count": 27,
   "id": "edeff630-5d92-4f1a-9510-e9272c477294",
   "metadata": {},
   "outputs": [],
   "source": [
    "cd_test = CausalityDataset(\n",
    "    data=test,\n",
    "    treatment='treatment',\n",
    "    outcomes=['y_factual'],\n",
    "    effect_modifiers = features,\n",
    "    propensity_modifiers = propensities\n",
    ")"
   ]
  },
  {
   "cell_type": "code",
   "execution_count": 28,
   "id": "151b9267-310b-4f6d-adaf-db2d44f63c6d",
   "metadata": {},
   "outputs": [],
   "source": [
    "cd_test.preprocess_dataset()"
   ]
  },
  {
   "cell_type": "code",
   "execution_count": 29,
   "id": "46659420-fa53-4c5b-891e-a3fc99bc84cf",
   "metadata": {},
   "outputs": [],
   "source": [
    "preds_test = ct2.effect(cd_test.data)"
   ]
  },
  {
   "cell_type": "markdown",
   "id": "0788bc9e-5b0e-4b86-b128-7c5f0b11770e",
   "metadata": {},
   "source": [
    "- Here we want to get results from the predictions\n",
    "- We do naive argmax, but it is also recommended to use Thompson Sampling"
   ]
  },
  {
   "cell_type": "code",
   "execution_count": 30,
   "id": "30d23496-c5d6-4702-be34-01d7a85e8d88",
   "metadata": {},
   "outputs": [],
   "source": [
    "treatments_test = np.argmax(preds_test, axis=1) + 1"
   ]
  },
  {
   "cell_type": "code",
   "execution_count": 31,
   "id": "4832a0d9-18e9-4a2f-9e72-ef207d1d8fb5",
   "metadata": {},
   "outputs": [],
   "source": [
    "test['predicted_treatment'] = treatments_test\n",
    "use_df = test"
   ]
  },
  {
   "cell_type": "code",
   "execution_count": 32,
   "id": "470e4aae-a435-48f1-95bd-35d9d5d71c84",
   "metadata": {},
   "outputs": [
    {
     "name": "stderr",
     "output_type": "stream",
     "text": [
      "100%|██████████████████████████████████████████| 10/10 [00:00<00:00, 528.26it/s]\n"
     ]
    }
   ],
   "source": [
    "# computing mean ERUPT over 10 bootstrapped samples\n",
    "from tqdm import tqdm\n",
    "scores_list = []\n",
    "\n",
    "for i in tqdm(range(10)):\n",
    "\n",
    "    bootstrap_df = use_df.sample(frac=1, replace=True)\n",
    "    propensities = bootstrap_df['propensity_selected_group']\n",
    "    actual_treatment = bootstrap_df['treatment']\n",
    "    outcome = bootstrap_df['y_factual']\n",
    "\n",
    "    # define the random assignment policy\n",
    "    random_policy = bootstrap_df['predicted_treatment']\n",
    "\n",
    "    # define a propensity model that will simply return the propensities when calling predict_proba\n",
    "    propensity_model = DummyPropensity(p=propensities, treatment=actual_treatment)\n",
    "\n",
    "    # obtain ERUPT under random policy\n",
    "    e = ERUPT(treatment_name='treatment', propensity_model=propensity_model)\n",
    "    scores_list.append(e.score(df=use_df,outcome=outcome,policy=random_policy))\n",
    "\n",
    "erupt_mean = np.mean(scores_list)\n",
    "erupt_sd = np.std(scores_list)"
   ]
  },
  {
   "cell_type": "code",
   "execution_count": 33,
   "id": "259f373d-691c-4178-921d-3bd1cfd04b07",
   "metadata": {},
   "outputs": [
    {
     "data": {
      "image/png": "[encoded data removed]",
      "text/latex": [
       "$\\displaystyle 2.87505182773168$"
      ],
      "text/plain": [
       "2.87505182773168"
      ]
     },
     "execution_count": 33,
     "metadata": {},
     "output_type": "execute_result"
    }
   ],
   "source": [
    "erupt_mean"
   ]
  },
  {
   "cell_type": "code",
   "execution_count": 34,
   "id": "df132240-5a4b-46a7-a3bc-8ddc87464167",
   "metadata": {},
   "outputs": [
    {
     "data": {
      "image/png": "[encoded data removed]",
      "text/latex": [
       "$\\displaystyle 3.09562750665942$"
      ],
      "text/plain": [
       "3.095627506659421"
      ]
     },
     "execution_count": 34,
     "metadata": {},
     "output_type": "execute_result"
    }
   ],
   "source": [
    "test['y_factual'].mean()"
   ]
  },
  {
   "cell_type": "code",
   "execution_count": null,
   "id": "4fd63daa-8d09-42cf-a20d-971b773a4e73",
   "metadata": {},
   "outputs": [],
   "source": []
  }
 ],
 "metadata": {
  "kernelspec": {
   "display_name": "Python 3 (ipykernel)",
   "language": "python",
   "name": "python3"
  },
  "language_info": {
   "codemirror_mode": {
    "name": "ipython",
    "version": 3
   },
   "file_extension": ".py",
   "mimetype": "text/x-python",
   "name": "python",
   "nbconvert_exporter": "python",
   "pygments_lexer": "ipython3",
   "version": "3.10.14"
  }
 },
 "nbformat": 4,
 "nbformat_minor": 5
}
